{
 "cells": [
  {
   "cell_type": "markdown",
   "id": "b3f8d30c",
   "metadata": {},
   "source": [
    "<div align=\"center\">\n",
    "\n",
    "# Online Advertising Optimization\n",
    "\n",
    "**A data-driven personal project**  \n",
    "**Author:** Keshav Asokan  \n",
    "**Date:** August 09, 2025\n",
    "\n",
    "---\n",
    "\n",
    "</div>\n"
   ]
  },
  {
   "cell_type": "markdown",
   "id": "dc805519",
   "metadata": {},
   "source": [
    "## Table of Contents\n",
    "\n",
    "- [1. Introduction](#1-introduction)\n",
    "  - [1.1. The Online Advertising Ecosystem](#11-the-online-advertising-ecosystem)\n",
    "  - [**Key Terminology**](#key-terminology)\n",
    "  - [1.2. Project Approach](#12-project-approach)\n",
    "- [2. Data Exploration and Analysis](#2-data-exploration-and-analysis)\n",
    "  - [2.1. Loading and Examining the Data](#21-loading-and-examining-the-data)\n",
    "  - [2.2. Calculating Cost-Per-Click (CPC)](#22-calculating-cost-per-click-cpc)\n",
    "  - [2.3. Initial Observations and Hypotheses](#23-initial-observations-and-hypotheses)\n",
    "  - [2.4. Interpreting the Visualizations](#24-interpreting-the-visualizations)\n",
    "  - [2.5. Additional Visualization: Budget vs. Clicks](#25-additional-visualization-budget-vs-clicks)\n",
    "- [3. Predictive Modeling: Linear Regression for CPC](#3-predictive-modeling-linear-regression-for-cpc)\n",
    "  - [3.1. Building and Evaluating the Regression Models](#31-building-and-evaluating-the-regression-models)\n",
    "  - [3.2. Model Agreement with Initial Observations](#32-model-agreement-with-initial-observations)\n",
    "- [4. Optimization: Finding the Optimal Allocation Strategy](#4-optimization-finding-the-optimal-allocation-strategy)\n",
    "  - [4.1. Formulating the Linear Program](#41-formulating-the-linear-program)\n",
    "  - [4.2. Model Implementation with Gurobi](#42-model-implementation-with-gurobi)\n",
    "  - [**Create the Model**](#create-the-model)\n",
    "  - [**Define Decision Variables**](#define-decision-variables)\n",
    "  - [**Add Constraints**](#add-constraints)\n",
    "  - [**Set the Objective Function**](#set-the-objective-function)\n",
    "  - [4.3. Solving the Optimization Problem](#43-solving-the-optimization-problem)\n",
    "  - [4.4. Analysis of the Initial Optimal Strategy](#44-analysis-of-the-initial-optimal-strategy)\n",
    "- [5. Refining the Model with Diversification](#5-refining-the-model-with-diversification)\n",
    "  - [5.1. Adding Diversification Constraints](#51-adding-diversification-constraints)\n",
    "  - [5.2. Analysis of the Diversified Strategy](#52-analysis-of-the-diversified-strategy)\n",
    "  - [5.3. Sensitivity Analysis](#53-sensitivity-analysis)\n",
    "- [6. The Economics of Advertising: Optimizing for Revenue](#6-the-economics-of-advertising-optimizing-for-revenue)\n",
    "  - [6.1. Net Revenue vs. Total Budget](#61-net-revenue-vs-total-budget)\n",
    "  - [6.2. Financial Insights](#62-financial-insights)\n",
    "- [7. Finding the Optimal Budget for Maximum Net Revenue](#7-finding-the-optimal-budget-for-maximum-net-revenue)\n",
    "  - [7.1. Formulating the New Linear Program](#71-formulating-the-new-linear-program)\n",
    "  - [7.2. Implementing and Solving the Net Revenue Model](#72-implementing-and-solving-the-net-revenue-model)\n",
    "  - [7.3. Analysis of the Optimal Budget](#73-analysis-of-the-optimal-budget)\n",
    "  - [7.4. Finding the Break-Even Budget](#74-finding-the-break-even-budget)\n",
    "- [8. Practical Considerations and Future Work](#8-practical-considerations-and-future-work)\n",
    "  - [8.1. Additional Metrics for Prediction](#81-additional-metrics-for-prediction)\n",
    "  - [8.2. Alternative Campaign Objectives](#82-alternative-campaign-objectives)\n",
    "  - [8.3. Handling Dynamic Keyword Trends](#83-handling-dynamic-keyword-trends)\n",
    "  - [8.4. Addressing Click Attribution](#84-addressing-click-attribution)\n",
    "- [9. Optional Advanced Model: Piecewise Linear CPC](#9-optional-advanced-model-piecewise-linear-cpc)\n",
    "  - [9.1. Implementing the Piecewise Linear Model](#91-implementing-the-piecewise-linear-model)\n",
    "  - [9.2. Analysis of the Piecewise Linear Model Result](#92-analysis-of-the-piecewise-linear-model-result)"
   ]
  },
  {
   "cell_type": "code",
   "execution_count": null,
   "id": "bf6691cd",
   "metadata": {},
   "outputs": [],
   "source": [
    "# Visual/style setup (kept lightweight; safe defaults)\n",
    "import pandas as pd\n",
    "import numpy as np\n",
    "import matplotlib.pyplot as plt\n",
    "\n",
    "# If seaborn is installed, set a clean theme for nicer plots\n",
    "try:\n",
    "    import seaborn as sns\n",
    "    sns.set_theme(style=\"whitegrid\")\n",
    "except Exception:\n",
    "    pass\n",
    "\n",
    "# Matplotlib defaults\n",
    "plt.rcParams.update({\n",
    "    \"figure.figsize\": (9, 6),\n",
    "    \"axes.titlesize\": 14,\n",
    "    \"axes.labelsize\": 12,\n",
    "    \"xtick.labelsize\": 10,\n",
    "    \"ytick.labelsize\": 10,\n",
    "    \"legend.fontsize\": 10,\n",
    "    \"figure.autolayout\": True,\n",
    "})\n",
    "\n",
    "# Pandas display\n",
    "pd.set_option(\"display.max_columns\", 50)\n",
    "pd.set_option(\"display.width\", 120)\n",
    "pd.options.display.float_format = \"{:,.3f}\".format\n",
    "\n",
    "print(\"✅ Styling and display preferences set.\")"
   ]
  },
  {
   "cell_type": "markdown",
   "metadata": {},
   "source": [
    "# Project: Optimizing an Online Advertising Campaign"
   ]
  },
  {
   "cell_type": "markdown",
   "metadata": {},
   "source": [
    "## 1. Introduction\n",
    "\n",
    "This project explores strategies for optimizing online advertising for a high-street fashion retailer in the UK. The retail sector is currently experiencing a significant shift, with in-store sales declining by approximately 4% annually and online sales growing by 10% per year. Despite recent investments in a modern e-commerce platform, the brand's online presence is still developing, and website traffic remains limited.\n",
    "\n",
    "The primary objective is to design and evaluate a large-scale online advertising campaign to increase platform visibility and attract new visitors. The campaign will operate with a minimum budget of £1 million over one month and aims to acquire at least 200,000 new visitors. To achieve this, this analysis applies data-driven optimization techniques to develop actionable recommendations for the campaign strategy."
   ]
  },
  {
   "cell_type": "markdown",
   "metadata": {},
   "source": [
    "### 1.1. The Online Advertising Ecosystem\n",
    "\n",
    "The online advertising ecosystem primarily involves two key intermediaries:\n",
    "\n",
    "<img src=\"advertising.png\" width=\"500\">\n",
    "\n",
    "- **Online Ad Exchanges**: These platforms, like Google Ads and Facebook, run auctions to allocate advertising space to advertisers. They determine the auction mechanism—deciding which ads are shown and at what price.\n",
    "- **Demand-Side Platforms (DSPs)**: DSPs manage the advertising campaigns on behalf of clients. They are responsible for the operational execution, deciding whether to participate in auctions and determining appropriate bid amounts."
   ]
  },
  {
   "cell_type": "markdown",
   "metadata": {},
   "source": [
    "For this project, we've engaged a DSP to run a campaign on Google Ads. However, several key parameters need to be determined. This analysis will address the following fundamental questions:\n",
    "\n",
    "- Which keywords should be targeted for advertising?\n",
    "- How should the budget be allocated across these keywords?\n",
    "- What is the optimal total budget for the advertising campaign?"
   ]
  },
  {
   "cell_type": "markdown",
   "metadata": {},
   "source": [
    "#### **Key Terminology**\n",
    "When the DSP wins an auction, the ad is displayed to the user, which is known as an **impression**. A crucial metric for advertisers is the **Cost-Per-Click (CPC)**, representing the budget spent per click. The CPC for a given keyword, $k$, is calculated as:\n",
    "\n",
    "$$ CPC(k) = \\frac{{\\text{Amount spent on keyword } k}}{{\\text{Number of clicks on keyword } k}} $$"
   ]
  },
  {
   "cell_type": "markdown",
   "metadata": {},
   "source": [
    "### 1.2. Project Approach\n",
    "\n",
    "This project uses historical data provided by the DSP to inform decisions. The data comes from advertising campaigns conducted for similar clients—competing UK retailers with the same market positioning. Each data point represents a keyword and a specific spending level, along with the resulting number of clicks. Since each click directs a user to the e-commerce site, we can approximate one click as one new visitor.\n",
    "\n",
    "The goal is to build a model that determines the optimal spending for each keyword, given a prospective budget of £1 million. The process involves:\n",
    "1.  **Data Exploration**: Analyzing historical campaign data to understand keyword performance.\n",
    "2.  **CPC Modeling**: Building a model to predict the Cost-Per-Click for each keyword.\n",
    "3.  **Optimization**: Using a linear programming model to determine the optimal budget allocation.\n",
    "\n",
    "This data-driven approach will lead to a set of actionable recommendations for the advertising campaign."
   ]
  },
  {
   "cell_type": "markdown",
   "metadata": {},
   "source": [
    "## 2. Data Exploration and Analysis\n",
    "\n",
    "The DSP has provided data on five keywords selected by the marketing team. For each keyword, the DSP has identified previous campaigns from similar UK retailers, showing various monthly spending levels (from thousands to millions of pounds) and the corresponding number of clicks generated. The campaign data is reported on a monthly basis."
   ]
  },
  {
   "cell_type": "markdown",
   "metadata": {},
   "source": [
    "### 2.1. Loading and Examining the Data\n",
    "\n",
    "First, let's load the data and get a general overview of its structure and summary statistics."
   ]
  },
  {
   "cell_type": "code",
   "execution_count": null,
   "metadata": {},
   "outputs": [],
   "source": [
    "# Import pandas for data manipulation\n",
    "import pandas as pd\n",
    "\n",
    "# Load the dataset\n",
    "df = pd.read_csv(\"data_keywords.csv\").set_index(\"ID\")"
   ]
  },
  {
   "cell_type": "code",
   "execution_count": null,
   "metadata": {},
   "outputs": [],
   "source": [
    "# Display the first 5 rows\n",
    "print(\"--- First 5 Rows ---\")\n",
    "print(df.head())\n",
    "\n",
    "# Display summary statistics\n",
    "print(\"\\n--- Summary Statistics ---\")\n",
    "print(df.describe())\n",
    "\n",
    "# Calculate mean budget and clicks by keyword\n",
    "print(\"\\n--- Mean Values by Keyword ---\")\n",
    "print(df.groupby('keyword').mean())\n",
    "\n",
    "# Calculate median budget and clicks by keyword\n",
    "print(\"\\n--- Median Values by Keyword ---\")\n",
    "print(df.groupby('keyword').median())"
   ]
  },
  {
   "cell_type": "markdown",
   "metadata": {},
   "source": [
    "### 2.2. Calculating Cost-Per-Click (CPC)\n",
    "\n",
    "Now, we'll calculate the CPC for each campaign and add it as a new column to our dataframe."
   ]
  },
  {
   "cell_type": "code",
   "execution_count": null,
   "metadata": {},
   "outputs": [],
   "source": [
    "# Calculate and add the CPC column\n",
    "df['CPC'] = df['budget'] / df['clicks']"
   ]
  },
  {
   "cell_type": "markdown",
   "metadata": {},
   "source": [
    "Next, let's visualize the distribution of CPC for each keyword using a boxplot. This will help us understand the cost-effectiveness and variability of each keyword."
   ]
  },
  {
   "cell_type": "code",
   "execution_count": null,
   "metadata": {},
   "outputs": [],
   "source": [
    "# Import relevant libraries for plotting\n",
    "import seaborn as sns\n",
    "import matplotlib.pyplot as plt\n",
    "\n",
    "# Set up plot environment\n",
    "%matplotlib inline\n",
    "plt.subplots(figsize=(9,6))\n",
    "sns.set(style=\"ticks\", palette=\"pastel\")\n",
    "\n",
    "# Create a boxplot to show CPC distribution by keyword\n",
    "sns.boxplot(x=\"keyword\", y=\"CPC\", data=df)\n",
    "\n",
    "# Finalize plot display\n",
    "sns.despine(offset=10, trim=True)"
   ]
  },
  {
   "cell_type": "markdown",
   "metadata": {},
   "source": [
    "### 2.3. Initial Observations and Hypotheses\n",
    "\n",
    "Based on the boxplot, **'retail UK'** appears to have the best (i.e., cheapest) CPC, while **'dua lipa gloves'** has the worst (most expensive) CPC.\n",
    "\n",
    "The variability in CPC for the same keyword could be due to several factors:\n",
    "\n",
    "- **Ad Quality**: Higher quality and more relevant ads often achieve better CPCs.\n",
    "- **Platform Price Discrimination**: Ad exchanges might offer discounts to certain buyers based on their relationship or volume.\n",
    "- **Auction Dynamics**: Different valuation methods used by ad exchanges can lead to varying prices."
   ]
  },
  {
   "cell_type": "markdown",
   "metadata": {},
   "source": [
    "Let's refine the visualization to see if budget size affects CPC."
   ]
  },
  {
   "cell_type": "code",
   "execution_count": null,
   "metadata": {},
   "outputs": [],
   "source": [
    "# Define a 'large-budget' category for budgets >= £20,000\n",
    "df['large-budget'] = df['budget'] >= 20000\n",
    "\n",
    "# Set up the plot\n",
    "plt.subplots(figsize=(10,7))\n",
    "sns.set(style=\"ticks\", palette=\"pastel\")\n",
    "\n",
    "# Create a grouped boxplot to compare CPC for large vs. small budgets\n",
    "sns.boxplot(x=\"keyword\", y=\"CPC\", hue=\"large-budget\", palette=[\"m\", \"g\"], data=df)\n",
    "\n",
    "# Finalize plot display\n",
    "sns.despine(offset=10, trim=True)"
   ]
  },
  {
   "cell_type": "code",
   "execution_count": null,
   "metadata": {},
   "outputs": [],
   "source": [
    "# Set seaborn style for regression plot\n",
    "sns.set()\n",
    "\n",
    "# Get a list of unique keywords\n",
    "keywords = df.keyword.drop_duplicates().tolist()\n",
    "print(f\"Keywords being analyzed: {keywords}\")\n",
    "\n",
    "# Plot the relationship between clicks and budget for the 'cardigan' keyword\n",
    "ax = sns.regplot(x=\"clicks\", y=\"budget\", data=df[df[\"keyword\"] == \"cardigan\"], order=2)\n",
    "plt.title('Budget vs. Clicks for \"cardigan\" Keyword')"
   ]
  },
  {
   "cell_type": "markdown",
   "metadata": {},
   "source": [
    "### 2.4. Interpreting the Visualizations\n",
    "\n",
    "The analysis separates budgets into 'small' (< £20k) and 'large' (>= £20k).\n",
    "\n",
    "- **For small budgets**, 'dua lipa gloves' has the lowest median CPC, while 'spotted dress' has the highest.\n",
    "- **For large budgets**, 'free shipping UK' shows the lowest median CPC, while 'cardigan' has the highest. The wide interquartile ranges for 'cardigan' and 'dua lipa gloves' suggest high CPC variability for these keywords. Notably, 'retail UK' has no data for large budgets.\n",
    "\n",
    "The regression plot shows a positive, non-linear relationship between budget and clicks, with some high-budget outliers indicating that while most campaigns have smaller spends, a few are major players."
   ]
  },
  {
   "cell_type": "markdown",
   "metadata": {},
   "source": [
    "### 2.5. Additional Visualization: Budget vs. Clicks\n",
    "\n",
    "To further explore the relationship, let's examine the budget-click relationship for another keyword."
   ]
  },
  {
   "cell_type": "code",
   "execution_count": null,
   "metadata": {},
   "outputs": [],
   "source": [
    "# Plot the relationship between clicks and budget for the 'dua lipa gloves' keyword\n",
    "ax = sns.regplot(x=\"clicks\", y=\"budget\", data=df[df[\"keyword\"] == \"dua lipa gloves\"], order=2)\n",
    "plt.title('Budget vs. Clicks for \"dua lipa gloves\" Keyword')"
   ]
  },
  {
   "cell_type": "markdown",
   "metadata": {},
   "source": [
    "For the 'dua lipa gloves' keyword, we again observe a positive, non-linear relationship between budget and clicks. The concentration of data points at lower budget levels, with a few high-budget outliers, is also apparent here."
   ]
  },
  {
   "cell_type": "markdown",
   "metadata": {},
   "source": [
    "## 3. Predictive Modeling: Linear Regression for CPC\n",
    "\n",
    "While the relationship between clicks and budget is not perfectly linear, a linear model provides a solid first-order approximation. Here, we will build a simple linear regression model to predict the number of clicks (Y) as a function of the budget spent (X) for each keyword.\n",
    "\n",
    "The model is defined as:\n",
    "$$ \\text{numberOfClicks} = \\alpha \\cdot \\text{budgetSpent} $$\n",
    "\n",
    "*Note: We assume a zero-intercept model, as spending £0 should result in 0 clicks. The ultimate goal is to create a dictionary mapping each keyword to its predicted CPC value.*"
   ]
  },
  {
   "cell_type": "markdown",
   "metadata": {},
   "source": [
    "### 3.1. Building and Evaluating the Regression Models\n",
    "\n",
    "The following code iterates through each keyword, fits a linear regression model, and calculates the corresponding CPC. The code is commented to explain each step."
   ]
  },
  {
   "cell_type": "code",
   "execution_count": null,
   "metadata": {},
   "outputs": [],
   "source": [
    "# Import necessary libraries\n",
    "import numpy as np\n",
    "from sklearn.linear_model import LinearRegression\n",
    "\n",
    "# Create a list of unique keywords\n",
    "keywords = df.keyword.drop_duplicates().tolist()\n",
    "\n",
    "# Initialize an empty dictionary to store the calculated CPC for each keyword\n",
    "CPC = {}\n",
    "\n",
    "# Loop through each keyword to build a separate regression model\n",
    "for k in keywords:\n",
    "    # Filter the dataframe for the current keyword\n",
    "    df_k = df[df[\"keyword\"] == k]\n",
    "    \n",
    "    # Prepare the independent variable (budget) for scikit-learn\n",
    "    # .values extracts the numpy array, .reshape ensures it's a 2D array\n",
    "    X = df_k.budget.values.reshape(-1, 1)\n",
    "    \n",
    "    # Prepare the dependent variable (clicks)\n",
    "    y = df_k.clicks.values\n",
    "    \n",
    "    # Instantiate a linear regression model without an intercept\n",
    "    reg = LinearRegression(fit_intercept=False)\n",
    "    \n",
    "    # Fit the model to the data for the current keyword\n",
    "    reg.fit(X, y)\n",
    "    \n",
    "    # The model gives clicks = alpha * budget, so alpha = reg.coef_[0]\n",
    "    # Since CPC = budget / clicks, CPC = 1 / alpha\n",
    "    CPC[k] = 1.0 / reg.coef_[0]\n",
    "    \n",
    "    # Display the calculated CPC for the keyword\n",
    "    print(f\"\\nThe predicted CPC of keyword '{k}' is: £{CPC[k]:.2f} per click\")\n",
    "    \n",
    "    # Display the R-squared value to evaluate model fit\n",
    "    print(f\"The in-sample R-squared for this model is: {reg.score(X, y):.4f}\")"
   ]
  },
  {
   "cell_type": "markdown",
   "metadata": {},
   "source": [
    "### 3.2. Model Agreement with Initial Observations\n",
    "\n",
    "Yes, the predictive model's results align with the initial observations from the data exploration. The keyword **'retail UK'** has the lowest predicted CPC, making it the most cost-effective, while **'dua lipa gloves'** has the highest, confirming it is the most expensive. The ranking of keywords by CPC is consistent with what was seen in the boxplots.\n",
    "\n",
    "The very high predicted CPC for 'dua lipa gloves' and its negative R-squared value suggest that a simple linear model is a poor fit for this keyword, likely due to high variability or a non-linear relationship not captured by this model."
   ]
  },
  {
   "cell_type": "markdown",
   "metadata": {},
   "source": [
    "## 4. Optimization: Finding the Optimal Allocation Strategy\n",
    "\n",
    "Using the CPC values derived from our model, we will now determine how to allocate a £1M budget across the keywords to maximize the total number of clicks."
   ]
  },
  {
   "cell_type": "markdown",
   "metadata": {},
   "source": [
    "### 4.1. Formulating the Linear Program\n",
    "\n",
    "The optimal allocation problem can be formulated as a linear program with the following components:\n",
    "\n",
    "- **Decision Variables**: Let $x_k$ be the amount of money (in £) to be spent on keyword $k$.\n",
    "- **Objective Function**: Maximize the total number of clicks. Since the number of clicks for a keyword is $\\frac{1}{CPC_k} \\cdot x_k$, the objective is to maximize: \n",
    "  $$ \\sum_{k \\in \\text{keywords}} \\frac{1}{CPC_k} \\cdot x_k $$\n",
    "- **Constraints**: \n",
    "  1. The total budget spent cannot exceed £1,000,000:\n",
    "     $$ \\sum_{k \\in \\text{keywords}} x_k \\le 1,000,000 $$\n",
    "  2. The budget allocated to each keyword must be non-negative:\n",
    "     $$ x_k \\ge 0 \\quad \\forall k \\in \\text{keywords} $$"
   ]
  },
  {
   "cell_type": "markdown",
   "metadata": {},
   "source": [
    "### 4.2. Model Implementation with Gurobi"
   ]
  },
  {
   "cell_type": "code",
   "execution_count": null,
   "metadata": {},
   "outputs": [],
   "source": [
    "# Import the Gurobi library and its functions\n",
    "import gurobipy as gp\n",
    "from gurobipy import GRB, quicksum"
   ]
  },
  {
   "cell_type": "markdown",
   "metadata": {},
   "source": [
    "#### **Create the Model**"
   ]
  },
  {
   "cell_type": "code",
   "execution_count": null,
   "metadata": {},
   "outputs": [],
   "source": [
    "# Create a new Gurobi model named 'allocation'\n",
    "m = gp.Model(\"allocation\")"
   ]
  },
  {
   "cell_type": "markdown",
   "metadata": {},
   "source": [
    "#### **Define Decision Variables**"
   ]
  },
  {
   "cell_type": "code",
   "execution_count": null,
   "metadata": {},
   "outputs": [],
   "source": [
    "# Create a decision variable for each keyword, representing the budget allocated.\n",
    "# The lower bound (lb) is 0, as we cannot spend a negative amount.\n",
    "allocation = m.addVars(keywords, lb=0, name=\"allocation\")"
   ]
  },
  {
   "cell_type": "markdown",
   "metadata": {},
   "source": [
    "This code creates a set of decision variables, `allocation[k]`, for each keyword `k`. These variables will hold the optimal budget split determined by the solver. For example, if the optimal solution involves no spending on 'cardigan', the value of `allocation['cardigan']` will be 0."
   ]
  },
  {
   "cell_type": "markdown",
   "metadata": {},
   "source": [
    "#### **Add Constraints**\n",
    "The primary constraint is the total budget limit."
   ]
  },
  {
   "cell_type": "code",
   "execution_count": null,
   "metadata": {},
   "outputs": [],
   "source": [
    "# Add the budget constraint: the sum of allocations for all keywords must not exceed £1,000,000.\n",
    "budget_constraint = m.addConstr(quicksum(allocation[k] for k in keywords) <= 1000000, \"budget_constraint\")"
   ]
  },
  {
   "cell_type": "markdown",
   "metadata": {},
   "source": [
    "#### **Set the Objective Function**\n",
    "The objective is to maximize the total number of clicks."
   ]
  },
  {
   "cell_type": "code",
   "execution_count": null,
   "metadata": {},
   "outputs": [],
   "source": [
    "# Set the objective to maximize the sum of (allocation / CPC) for all keywords.\n",
    "# This is equivalent to maximizing total clicks.\n",
    "m.setObjective(quicksum(1.0/CPC[k] * allocation[k] for k in keywords), GRB.MAXIMIZE)"
   ]
  },
  {
   "cell_type": "markdown",
   "metadata": {},
   "source": [
    "### 4.3. Solving the Optimization Problem\n",
    "\n",
    "With the model formulated, we can now solve it to find the optimal allocation."
   ]
  },
  {
   "cell_type": "code",
   "execution_count": null,
   "metadata": {},
   "outputs": [],
   "source": [
    "# Define a function to print the solution in a readable format\n",
    "def print_solution():\n",
    "    if m.status == GRB.OPTIMAL:\n",
    "        print(f'\\nOptimal Clicks: {m.objVal:,.0f}')\n",
    "        print('\\nOptimal Allocation:')\n",
    "        allocation_x = m.getAttr('x', allocation)\n",
    "        for k in keywords:\n",
    "            if allocation_x[k] > 0:\n",
    "                print(f\"  - {k}: £{allocation_x[k]:,.0f}\")\n",
    "    else:\n",
    "        print(f'No optimal solution found. Status code: {m.status}')\n",
    "\n",
    "# Optimize the model\n",
    "m.optimize()\n",
    "\n",
    "# Print the results\n",
    "print_solution()"
   ]
  },
  {
   "cell_type": "markdown",
   "metadata": {},
   "source": [
    "### 4.4. Analysis of the Initial Optimal Strategy\n",
    "\n",
    "The model recommends allocating the entire **£1,000,000 budget to a single keyword: 'retail UK'**. This is because 'retail UK' has the lowest CPC, and the linear model assumes this CPC remains constant regardless of the budget. Therefore, to maximize clicks, the model logically invests everything in the most cost-effective option.\n",
    "\n",
    "This strategy is only realistic under specific conditions, such as low competition for the keyword and the absence of diminishing returns (i.e., the CPC does not increase as we spend more). In reality, this approach is risky as it ignores potential market saturation and the risk of **ad fatigue**, where users become overexposed to an ad and stop paying attention, reducing its effectiveness."
   ]
  },
  {
   "cell_type": "markdown",
   "metadata": {},
   "source": [
    "## 5. Refining the Model with Diversification\n",
    "\n",
    "The initial result of allocating the entire budget to one keyword is a common outcome for simple linear optimization models. To create a more realistic and robust strategy, it's wise to introduce diversification. Let's impose a constraint that no more than **£300,000** can be invested in any single keyword. This will force the model to spread the budget across multiple keywords."
   ]
  },
  {
   "cell_type": "markdown",
   "metadata": {},
   "source": [
    "### 5.1. Adding Diversification Constraints\n",
    "\n",
    "We will add new constraints to our existing model."
   ]
  },
  {
   "cell_type": "code",
   "execution_count": null,
   "metadata": {},
   "outputs": [],
   "source": [
    "# Add a constraint for each keyword to limit its allocation to a maximum of £300,000.\n",
    "diversification_constrs = m.addConstrs((allocation[k] <= 300000 for k in keywords), \"diversification_constraint\")"
   ]
  },
  {
   "cell_type": "markdown",
   "metadata": {},
   "source": [
    "Now, let's re-run the optimization with these new constraints."
   ]
  },
  {
   "cell_type": "code",
   "execution_count": null,
   "metadata": {},
   "outputs": [],
   "source": [
    "# Re-optimize the model with the new diversification constraints\n",
    "m.optimize()\n",
    "\n",
    "# Print the new optimal solution\n",
    "print_solution()"
   ]
  },
  {
   "cell_type": "markdown",
   "metadata": {},
   "source": [
    "### 5.2. Analysis of the Diversified Strategy\n",
    "\n",
    "With the diversification constraint, the model now recommends splitting the £1M budget across four keywords:\n",
    "\n",
    "- **£300,000** for 'retail UK'\n",
    "- **£300,000** for 'free shipping UK'\n",
    "- **£300,000** for 'spotted dress'\n",
    "- **£100,000** for 'cardigan'\n",
    "\n",
    "The keyword **'dua lipa gloves'** is excluded entirely because its CPC is significantly higher than the others, making it an inefficient choice for maximizing clicks even with the diversification rule.\n",
    "\n",
    "This allocation is more practical as it reduces risk by not relying on a single keyword and targets a broader audience."
   ]
  },
  {
   "cell_type": "markdown",
   "metadata": {},
   "source": [
    "### 5.3. Sensitivity Analysis\n",
    "\n",
    "How many more clicks could be generated by slightly increasing the £300,000 diversification limit? We can determine this by examining the **shadow price** (dual value) of the diversification constraints. The shadow price tells us the change in the objective function (total clicks) for a one-unit (£1) increase in the constraint's right-hand side."
   ]
  },
  {
   "cell_type": "code",
   "execution_count": null,
   "metadata": {},
   "outputs": [],
   "source": [
    "# Perform sensitivity analysis on the diversification constraints\n",
    "print(\"--- Shadow Prices of Diversification Constraints ---\")\n",
    "for k in keywords:\n",
    "    if diversification_constrs[k].Pi != 0:\n",
    "      print(f\"The shadow price for '{k}' is: {diversification_constrs[k].Pi:.4f}\")"
   ]
  },
  {
   "cell_type": "markdown",
   "metadata": {},
   "source": [
    "The shadow price for 'retail UK' is approximately 0.22. This means that for every £1 increase in its budget cap (above £300k), we could generate an additional 0.22 clicks, assuming the budget is taken from a less efficient keyword like 'cardigan'. This indicates that 'retail UK' is the most constrained and most valuable keyword."
   ]
  },
  {
   "cell_type": "markdown",
   "metadata": {},
   "source": [
    "## 6. The Economics of Advertising: Optimizing for Revenue\n",
    "\n",
    "Let's shift the focus from simply maximizing clicks to understanding the financial outcomes. Assume each click is monetized at an average of **£4**. The key financial metric is the net revenue:\n",
    "\n",
    "$$ \\text{Net Revenue} = \\text{Total Revenue} - \\text{Total Budget} $$"
   ]
  },
  {
   "cell_type": "markdown",
   "metadata": {},
   "source": [
    "### 6.1. Net Revenue vs. Total Budget\n",
    "\n",
    "We will now plot the optimal net revenue as a function of the total budget. This involves running our diversified optimization model for various budget levels from £0 to £1M."
   ]
  },
  {
   "cell_type": "code",
   "execution_count": null,
   "metadata": {},
   "outputs": [],
   "source": [
    "# Define a range of budgets from £0 to £1M in increments of £100K\n",
    "budgets = np.arange(0, 1100000, 100000)\n",
    "\n",
    "# Initialize an array to store the corresponding optimal net revenue\n",
    "net_revenue = np.zeros(len(budgets))\n",
    "\n",
    "# Loop through each budget value to run the optimization\n",
    "for i, budget_val in enumerate(budgets):\n",
    "    # Deactivate Gurobi logs for cleaner output\n",
    "    m.setParam('OutputFlag', 0)\n",
    "\n",
    "    # Update the right-hand side of the budget constraint\n",
    "    budget_constraint.setAttr(\"rhs\", budget_val)\n",
    "    \n",
    "    # Re-optimize the model with the new budget\n",
    "    m.optimize()\n",
    "    \n",
    "    # Calculate and store the optimal net revenue\n",
    "    # Net Revenue = (Total Clicks * £4) - Budget\n",
    "    if m.status == GRB.OPTIMAL:\n",
    "        net_revenue[i] = (m.objVal * 4) - budget_val\n",
    "\n",
    "# Restore Gurobi logs\n",
    "m.setParam('OutputFlag', 1)"
   ]
  },
  {
   "cell_type": "code",
   "execution_count": null,
   "metadata": {},
   "outputs": [],
   "source": [
    "# Plot the net revenue as a function of the budget\n",
    "plt.figure(figsize=(10, 6))\n",
    "ax = sns.scatterplot(x=budgets, y=net_revenue)\n",
    "sns.lineplot(x=budgets, y=net_revenue, ax=ax)\n",
    "ax.set_xlabel(\"Total Budget (£)\")\n",
    "ax.set_ylabel(\"Net Revenue (£)\")\n",
    "plt.title('Optimal Net Revenue vs. Total Budget')\n",
    "plt.grid(True)"
   ]
  },
  {
   "cell_type": "markdown",
   "metadata": {},
   "source": [
    "### 6.2. Financial Insights\n",
    "\n",
    "The plot reveals a critical insight: net revenue becomes negative after the budget surpasses approximately **£300,000**. The deficit continues to grow as the budget increases, making the campaign progressively more unprofitable. This suggests that if the primary goal is to maximize net revenue, the total budget should be carefully managed and potentially capped around this point of diminishing returns."
   ]
  },
  {
   "cell_type": "markdown",
   "metadata": {},
   "source": [
    "## 7. Finding the Optimal Budget for Maximum Net Revenue\n",
    "\n",
    "Instead of testing discrete budget levels, we can use linear programming to directly find the optimal budget that maximizes net revenue. We'll modify our model to treat the total budget as a decision variable."
   ]
  },
  {
   "cell_type": "markdown",
   "metadata": {},
   "source": [
    "### 7.1. Formulating the New Linear Program\n",
    "\n",
    "The model is similar to the previous one, but with a new variable and a different objective.\n",
    "\n",
    "- **Decision Variables**:\n",
    "  - $x_k$: The amount of money (in £) to be spent on keyword $k$.\n",
    "  - $B$: The total budget for the campaign.\n",
    "- **Objective Function**: Maximize the net revenue.\n",
    "  $$ \\text{Maximize} \\quad \\left( \\sum_{k \\in \\text{keywords}} \\frac{4}{CPC_k} \\cdot x_k \\right) - B $$\n",
    "- **Constraints**:\n",
    "  1. The sum of allocations cannot exceed the total budget:\n",
    "     $$ \\sum_{k \\in \\text{keywords}} x_k \\le B $$\n",
    "  2. Diversification: The budget for each keyword cannot exceed £300,000:\n",
    "     $$ x_k \\le 300,000 \\quad \\forall k \\in \\text{keywords} $$\n",
    "  3. All variables must be non-negative."
   ]
  },
  {
   "cell_type": "markdown",
   "metadata": {},
   "source": [
    "### 7.2. Implementing and Solving the Net Revenue Model"
   ]
  },
  {
   "cell_type": "code",
   "execution_count": null,
   "metadata": {},
   "outputs": [],
   "source": [
    "# Create a new model for optimizing net revenue\n",
    "m_rev = gp.Model(\"allocation_budget\")\n",
    "\n",
    "# Define decision variables\n",
    "allocation_rev = m_rev.addVars(keywords, lb=0, name=\"allocation\")\n",
    "budget_rev = m_rev.addVar(lb=0, name='budget')\n",
    "\n",
    "# Add budget constraint\n",
    "m_rev.addConstr(quicksum(allocation_rev[k] for k in keywords) <= budget_rev, \"budget_constraint\")\n",
    "\n",
    "# Add diversification constraints\n",
    "m_rev.addConstrs((allocation_rev[k] <= 300000 for k in keywords), \"diversification_constraint\")\n",
    "\n",
    "# Set the objective to maximize net revenue\n",
    "m_rev.setObjective(quicksum(4.0/CPC[k] * allocation_rev[k] for k in keywords) - budget_rev, GRB.MAXIMIZE)\n",
    "\n",
    "# Optimize the model\n",
    "m_rev.optimize()\n",
    "\n",
    "# Print the solution\n",
    "if m_rev.status == GRB.OPTIMAL:\n",
    "    print(f'\\nMaximum Net Revenue: £{m_rev.objVal:,.2f}')\n",
    "    print(f\"\\nOptimal Budget: £{budget_rev.x:,.2f}\")\n",
    "    print('\\nOptimal Allocation:')\n",
    "    allocation_x_rev = m_rev.getAttr('x', allocation_rev)\n",
    "    for k in keywords:\n",
    "        if allocation_x_rev[k] > 0:\n",
    "            print(f\"  - {k}: £{allocation_x_rev[k]:,.2f}\")\n",
    "else:\n",
    "    print(f'No optimal solution found. Status code: {m_rev.status}')"
   ]
  },
  {
   "cell_type": "markdown",
   "metadata": {},
   "source": [
    "### 7.3. Analysis of the Optimal Budget\n",
    "\n",
    "To maximize net revenue, the optimal budget is **£300,000**, which should be fully invested into the keyword **'retail UK'**. This confirms our finding from the sensitivity plot: spending beyond this point on less efficient keywords leads to a decrease in overall profitability. The model invests up to the diversification limit in the single most profitable keyword and stops, as adding budget for other keywords would result in a net loss."
   ]
  },
  {
   "cell_type": "markdown",
   "metadata": {},
   "source": [
    "### 7.4. Finding the Break-Even Budget\n",
    "\n",
    "What if the goal is to spend the largest possible budget while ensuring the campaign breaks even (i.e., net revenue is zero)? We can modify the LP to find this."
   ]
  },
  {
   "cell_type": "code",
   "execution_count": null,
   "metadata": {},
   "outputs": [],
   "source": [
    "# Use the same model, but change the objective and add a breakeven constraint\n",
    "m_rev.addConstr((quicksum(4.0/CPC[k] * allocation_rev[k] for k in keywords) - budget_rev) == 0, \"breakeven_constraint\")\n",
    "m_rev.setObjective(budget_rev, GRB.MAXIMIZE) # Now, maximize the budget itself\n",
    "\n",
    "# Re-optimize the model\n",
    "m_rev.optimize()\n",
    "\n",
    "# Print the solution\n",
    "if m_rev.status == GRB.OPTIMAL:\n",
    "    print(f'\\nMaximum Break-Even Budget: £{m_rev.objVal:,.2f}')\n",
    "    print('\\nAllocation at Break-Even:')\n",
    "    allocation_x_rev = m_rev.getAttr('x', allocation_rev)\n",
    "    for k in keywords:\n",
    "        if allocation_x_rev[k] > 1:\n",
    "          print(f\"  - {k}: £{allocation_x_rev[k]:,.2f}\")\n",
    "else:\n",
    "    print(f'No optimal solution found. Status code: {m_rev.status}')"
   ]
  },
  {
   "cell_type": "markdown",
   "metadata": {},
   "source": [
    "The maximum budget for a break-even campaign is **£313,345**. This is achieved by allocating £300,000 to 'retail UK' and the remaining £13,345 to 'free shipping UK'. This budget is slightly higher than the one for maximum net revenue, demonstrating the trade-off between maximizing profit and maximizing reach (budget)."
   ]
  },
  {
   "cell_type": "markdown",
   "metadata": {},
   "source": [
    "## 8. Practical Considerations and Future Work\n",
    "\n",
    "While the linear programming model provides valuable insights, it's important to consider its limitations and potential areas for improvement."
   ]
  },
  {
   "cell_type": "markdown",
   "metadata": {},
   "source": [
    "### 8.1. Additional Metrics for Prediction\n",
    "\n",
    "To build a more comprehensive model, it would be useful to predict other key performance indicators (KPIs) such as:\n",
    "\n",
    "- **Click-Through Rate (CTR)**: The ratio of clicks to impressions. A high CTR indicates ad relevance.\n",
    "- **Bounce Rate**: The percentage of visitors who leave the site after viewing only one page. A high bounce rate suggests a mismatch between ad content and landing page experience.\n",
    "- **Conversion Rate**: The percentage of visitors who complete a desired action (e.g., make a purchase). This is the ultimate measure of campaign success."
   ]
  },
  {
   "cell_type": "markdown",
   "metadata": {},
   "source": [
    "### 8.2. Alternative Campaign Objectives\n",
    "\n",
    "Instead of maximizing clicks, a more sophisticated objective would be to maximize:\n",
    "\n",
    "- **Customer Lifetime Value (CLV)**: Focus on acquiring customers who are likely to make repeat purchases and have a higher long-term value to the business.\n",
    "- **Engagement**: Target users who are more likely to spend significant time on the site, indicating genuine interest."
   ]
  },
  {
   "cell_type": "markdown",
   "metadata": {},
   "source": [
    "### 8.3. Handling Dynamic Keyword Trends\n",
    "\n",
    "Keyword popularity changes rapidly. Relying on historical data for trending keywords (like 'Dua Lipa gloves') is challenging.\n",
    "\n",
    "- **Issue**: Budget planning is difficult when keyword performance is volatile. The backend infrastructure also needs to adapt quickly.\n",
    "- **Strategy**: Earmark a portion of the budget for experimental or trending keywords. Use automated tools or a digital marketing agency to monitor trends and adjust the keyword strategy dynamically."
   ]
  },
  {
   "cell_type": "markdown",
   "metadata": {},
   "source": [
    "### 8.4. Addressing Click Attribution\n",
    "\n",
    "When advertising across multiple platforms, a user may see an ad several times before clicking. This creates an attribution problem.\n",
    "\n",
    "- **Issue**: It's difficult to determine which specific ad or platform was responsible for the final click, making it hard to measure the true ROI of each channel.\n",
    "- **Strategy**: Implement a more advanced attribution model (e.g., multi-touch attribution) instead of a simple last-click model. This would provide a more accurate picture of how different keywords and platforms contribute to conversions."
   ]
  },
  {
   "cell_type": "markdown",
   "metadata": {},
   "source": [
    "## 9. Optional Advanced Model: Piecewise Linear CPC\n",
    "\n",
    "The linear CPC model is a simplification. In reality, the cost per click is likely a non-linear function of the budget; getting 1 million clicks is probably disproportionately more expensive than getting 1,000 clicks. The heatmap below, showing CPC per keyword and budget level, supports this intuition.\n",
    "\n",
    "<img src=\"CPC.png\" width=\"800\">\n",
    "\n",
    "The heatmap shows that for most keywords, CPC increases as the budget level grows. This is due to the law of diminishing returns: as you spend more, you have to bid higher or target less relevant audiences to get additional clicks, driving up the average cost.\n",
    "\n",
    "To account for this, we can approximate the non-linear CPC using a **piecewise linear function**."
   ]
  },
  {
   "cell_type": "code",
   "execution_count": null,
   "metadata": {},
   "outputs": [],
   "source": [
    "# This dictionary defines the slopes (CPC) for two different budget segments (pieces) for each keyword.\n",
    "# Format: { (keyword, piece): [CPC, lower_bound, upper_bound] }\n",
    "\n",
    "pieces_list = ['piece A', 'piece B']\n",
    "PiecewiseCPC = {\n",
    "    ('retail UK', 'piece A'): [4.1, 0, 20000],\n",
    "    ('retail UK', 'piece B'): [1e+100, 20000, 1000000], # Large value to act as a cap\n",
    "    ('free shipping UK', 'piece A'): [3.0, 0, 20000],\n",
    "    ('free shipping UK', 'piece B'): [6.9, 20000, 1000000],\n",
    "    ('cardigan', 'piece A'): [1.5, 0, 20000],\n",
    "    ('cardigan', 'piece B'): [41.1, 20000, 1000000],\n",
    "    ('dua lipa gloves', 'piece A'): [2.5, 0, 20000],\n",
    "    ('dua lipa gloves', 'piece B'): [233.6, 20000, 1000000],\n",
    "    ('spotted dress', 'piece A'): [4.7, 0, 20000],\n",
    "    ('spotted dress', 'piece B'): [10.4, 20000, 1000000]\n",
    "}"
   ]
  },
  {
   "cell_type": "markdown",
   "metadata": {},
   "source": [
    "### 9.1. Implementing the Piecewise Linear Model\n",
    "\n",
    "To implement this, we'll create separate decision variables for each piece of the CPC function for each keyword. For example, the allocation for 'retail UK' will be $x_{\\text{retail UK}} = y_{\\text{retail UK, A}} + y_{\\text{retail UK, B}}$, where $y_{\\text{retail UK, A}}$ is the budget spent in the first segment (up to a spend corresponding to 20,000 clicks) and $y_{\\text{retail UK, B}}$ is the budget for the second segment."
   ]
  },
  {
   "cell_type": "code",
   "execution_count": null,
   "metadata": {},
   "outputs": [],
   "source": [
    "# Prepare data structures for the piecewise model\n",
    "piecewise_vars = list(PiecewiseCPC.keys())\n",
    "slopes = {key: val[0] for key, val in PiecewiseCPC.items()}\n",
    "upper_bounds = {key: val[2] for key, val in PiecewiseCPC.items()}\n",
    "\n",
    "# Create a new Gurobi model for the piecewise linear problem\n",
    "m_plc = gp.Model(\"PiecewiseLinearCost\")\n",
    "\n",
    "# Add decision variables for each piece of each keyword\n",
    "allocation_plc = m_plc.addVars(piecewise_vars, lb=0, name=\"PLC_allocation\")\n",
    "\n",
    "# Add constraints for the upper bound of each piece's budget\n",
    "for k, p in piecewise_vars:\n",
    "    piece_click_limit = upper_bounds[(k,p)]\n",
    "    # Budget limit = clicks * CPC\n",
    "    if p == 'piece A':\n",
    "      budget_limit_A = piece_click_limit * slopes[(k,p)]\n",
    "      m_plc.addConstr(allocation_plc[(k, p)] <= budget_limit_A, f\"upper_bound_{k}_{p}\")\n",
    "\n",
    "# Add the total budget constraint\n",
    "m_plc.addConstr(quicksum(allocation_plc[j] for j in piecewise_vars) <= 1000000, \"total_budget\")\n",
    "\n",
    "# Set the objective to maximize total clicks\n",
    "m_plc.setObjective(quicksum(allocation_plc[j] / slopes[j] for j in piecewise_vars), GRB.MAXIMIZE)\n",
    "\n",
    "# Optimize the model\n",
    "m_plc.optimize()\n",
    "\n",
    "# Print the solution\n",
    "if m_plc.status == GRB.OPTIMAL:\n",
    "    print(f'\\nOptimal Clicks (Piecewise Model): {m_plc.objVal:,.0f}')\n",
    "    print('\\nOptimal Allocation:')\n",
    "    allocation_x_plc = m_plc.getAttr('x', allocation_plc)\n",
    "    for k in keywords:\n",
    "      total_alloc = allocation_x_plc[(k, 'piece A')] + allocation_x_plc[(k, 'piece B')]\n",
    "      if total_alloc > 0:\n",
    "        print(f\"  - {k}: £{total_alloc:,.0f}\")\n",
    "else:\n",
    "    print(f'No optimal solution found. Status code: {m_plc.status}')"
   ]
  },
  {
   "cell_type": "markdown",
   "metadata": {},
   "source": [
    "### 9.2. Analysis of the Piecewise Linear Model Result\n",
    "\n",
    "The piecewise linear model provides a more nuanced allocation. Unlike the simple linear model which focused on a single keyword, this model distributes the budget more broadly. It allocates funds to the most cost-effective initial segments ('piece A') of several keywords before moving to the more expensive secondary segments ('piece B').\n",
    "\n",
    "This strategy is far more realistic, as it inherently captures the diminishing returns of advertising spend and leads to a naturally diversified portfolio that balances cost and reach, without needing an arbitrary diversification cap."
   ]
  },
  {
   "cell_type": "markdown",
   "id": "0486ff27",
   "metadata": {},
   "source": [
    "## Project Summary\n",
    "\n",
    "**What I built:** A full pipeline from exploratory analysis to predictive modeling and linear-programming-based budget allocation for online ads, with an optional piecewise CPC extension.\n",
    "\n",
    "**Key takeaways**\n",
    "- CPC varies widely across keywords; simple linear modeling is a useful starting point but can miss diminishing returns.\n",
    "- A naive LP will concentrate spend on the single cheapest CPC; diversification constraints or non-linear CPC fix this.\n",
    "- From a **revenue** lens, an optimal budget often caps far **below** the maximum available spend.\n",
    "\n",
    "**Next steps**\n",
    "- Add conversion data to optimize for **profit** or **LTV**, not just clicks.\n",
    "- Replace linear CPC with a calibrated piecewise or nonlinear response curve learned from data.\n",
    "- Introduce uncertainty (e.g., CPC bands) and solve a **robust** or **stochastic** optimization variant.\n"
   ]
  }
 ],
 "metadata": {
  "kernelspec": {
   "display_name": "Python 3",
   "language": "python",
   "name": "python3"
  },
  "language_info": {
   "codemirror_mode": {
    "name": "ipython",
    "version": 3
   },
   "file_extension": ".py",
   "mimetype": "text/x-python",
   "name": "python",
   "nbconvert_exporter": "python",
   "pygments_lexer": "ipython3",
   "version": "3.8.5"
  }
 },
 "nbformat": 4,
 "nbformat_minor": 4
}
